{
 "cells": [
  {
   "cell_type": "code",
   "execution_count": null,
   "id": "987f5820-cef4-4599-a92c-15354c0cea6d",
   "metadata": {},
   "outputs": [],
   "source": [
    "import numpy as np \n",
    "from tensorflow.keras.preprocessing.text import one_hot\n",
    "from tensorflow.keras.preprocessing.sequence import pad_sequences\n",
    "from tensorflow.keras.models import Sequential\n",
    "from tensorflow.keras.layers import Dense\n",
    "from tensorflow.keras.layers import Flatten\n",
    "from tensorflow.keras.layers import Embedding"
   ]
  },
  {
   "cell_type": "code",
   "execution_count": null,
   "id": "a7a1a69e-0773-4818-823a-f0114e7ab2a3",
   "metadata": {},
   "outputs": [],
   "source": [
    "reviews = [\n",
    "    'nice food',\n",
    "    'amazing restaurant',\n",
    "    'too good',\n",
    "    'just loved it!',\n",
    "    'will go again',\n",
    "    'horrible food',\n",
    "    'never go there',\n",
    "    'poor service',\n",
    "    'poor quality',\n",
    "    'needs improvement'\n",
    "]\n",
    "\n",
    "sentiment = np.array([1, 1, 1, 1, 1, 0, 0, 0, 0, 0])"
   ]
  },
  {
   "cell_type": "code",
   "execution_count": null,
   "id": "079362e3-0ef6-480d-9cf2-0c5cb6b34cfd",
   "metadata": {},
   "outputs": [],
   "source": [
    "#this func one_hot itself create one hot encoding , it chooses random posn from the size in this case it is 30 for the words \n",
    "one_hot('amazing restaurant',30)"
   ]
  },
  {
   "cell_type": "code",
   "execution_count": null,
   "id": "febdba6e-c4d2-40b4-b932-9634659cb9f5",
   "metadata": {},
   "outputs": [],
   "source": [
    "vocab_size = 50\n",
    "encoded_reviews = [one_hot(d,vocab_size) for d in reviews]\n",
    "encoded_reviews"
   ]
  },
  {
   "cell_type": "code",
   "execution_count": null,
   "id": "ab1b6b84-a4d8-4156-b2ff-158c02ebc1a5",
   "metadata": {},
   "outputs": [],
   "source": [
    "#as now you can see that this have uneven size , 2 or 3 \n",
    "#in order to make it same for all we do padding , like adding a zero \n",
    "#pad_sequence method does this \n",
    "#padding='post' means at the end it will add zero \n",
    "\n",
    "max_length = 3\n",
    "padded_reviews = pad_sequences(encoded_reviews, maxlen=max_length,padding='post')\n",
    "padded_reviews"
   ]
  },
  {
   "cell_type": "code",
   "execution_count": null,
   "id": "f73bcf42-6521-47fb-8f56-14fea0eb2f6b",
   "metadata": {},
   "outputs": [],
   "source": [
    "embeded_vector_size = 4\n",
    "\n",
    "model =Sequential()\n",
    "model.add(Embedding(vocab_size,embeded_vector_size,input_length = max_length,name='embedding'))"
   ]
  },
  {
   "cell_type": "code",
   "execution_count": null,
   "id": "21da1b43-ce03-4f6e-9c56-4d9f4b015288",
   "metadata": {},
   "outputs": [],
   "source": [
    "model.add(Flatten())\n",
    "model.add(Dense(1,activation='sigmoid')) #output layer"
   ]
  },
  {
   "cell_type": "code",
   "execution_count": null,
   "id": "129e8e34-2d4b-46dc-829b-ef9643cef9df",
   "metadata": {},
   "outputs": [],
   "source": [
    "X=padded_reviews\n",
    "y=sentiment"
   ]
  },
  {
   "cell_type": "code",
   "execution_count": null,
   "id": "2b940b70-51c5-47be-9e90-27fb854e1e84",
   "metadata": {},
   "outputs": [],
   "source": [
    "model.compile(optimizer = 'adam',loss='binary_crossentropy',metrics =['accuracy'])"
   ]
  },
  {
   "cell_type": "code",
   "execution_count": null,
   "id": "19ad1963-6e83-41de-a222-9b547ee6a044",
   "metadata": {},
   "outputs": [],
   "source": [
    "model.summary()"
   ]
  },
  {
   "cell_type": "code",
   "execution_count": null,
   "id": "6ac650dc-e257-4a65-a16b-5061e7c74be9",
   "metadata": {},
   "outputs": [],
   "source": [
    "model.fit(X,y,epochs=50,verbose=0)"
   ]
  },
  {
   "cell_type": "code",
   "execution_count": null,
   "id": "19dcb6c1-42c8-4313-8796-bde47bc73a73",
   "metadata": {},
   "outputs": [],
   "source": [
    "loss,accuracy = model.evaluate(X,y)"
   ]
  },
  {
   "cell_type": "code",
   "execution_count": null,
   "id": "3fa94b53-ad7d-4236-a3ce-73319cfe68a1",
   "metadata": {},
   "outputs": [],
   "source": [
    "weights = model.get_layer('embedding').get_weights()[0]\n",
    "len(weights)"
   ]
  },
  {
   "cell_type": "code",
   "execution_count": null,
   "id": "98a47034-bb16-43f3-b099-e1034b3d5f50",
   "metadata": {},
   "outputs": [],
   "source": [
    "#the word 'nice'\n",
    "weights[37]"
   ]
  },
  {
   "cell_type": "code",
   "execution_count": null,
   "id": "58adbff7-706b-440b-9d5f-14a4914cfae7",
   "metadata": {},
   "outputs": [],
   "source": [
    "#the word 'amazing'\n",
    "weights[24]"
   ]
  },
  {
   "cell_type": "code",
   "execution_count": null,
   "id": "acc91c8a-08c5-42d3-8137-2c7291ce3da7",
   "metadata": {},
   "outputs": [],
   "source": [
    "#the two feature metrics are same not perfectly \n",
    "#this is because model is not train on big dataset "
   ]
  },
  {
   "cell_type": "code",
   "execution_count": null,
   "id": "58c3f027-8aaf-4d86-b488-54abe8f127d5",
   "metadata": {},
   "outputs": [],
   "source": []
  }
 ],
 "metadata": {
  "kernelspec": {
   "display_name": "Python 3 (ipykernel)",
   "language": "python",
   "name": "python3"
  },
  "language_info": {
   "codemirror_mode": {
    "name": "ipython",
    "version": 3
   },
   "file_extension": ".py",
   "mimetype": "text/x-python",
   "name": "python",
   "nbconvert_exporter": "python",
   "pygments_lexer": "ipython3",
   "version": "3.10.0"
  }
 },
 "nbformat": 4,
 "nbformat_minor": 5
}
